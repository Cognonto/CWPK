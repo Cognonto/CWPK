{
 "cells": [
  {
   "cell_type": "markdown",
   "metadata": {},
   "source": [
    "CWPK \\#21: Some Accumulated Tips\n",
    "======================\n",
    "\n",
    "\n",
    "Let's Recap Some Useful Python Guidance\n",
    "--------------------------\n",
    "\n",
    "<div style=\"float: left; width: 305px; margin-right: 10px;\">\n",
    "\n",
    "<img src=\"http://kbpedia.org/cwpk-files/cooking-with-kbpedia-305.png\" title=\"Cooking with KBpedia\" width=\"305\" />\n",
    "\n",
    "</div>\n",
    "\n",
    "All installments in this [*Cooking with Python and KBpedia*](https://www.mkbergman.com/cooking-with-python-and-kbpedia/) series have been prepared and written in order, except for this one. I began collecting tips about how best to use the *cowpoke* package and Python about the time this installment occurred in sequence in the series. I have accumulated use tips up through **CWPK #60**, and now am reaching back to complete this narrative.\n",
    "\n",
    "Since we are principally working through the interactive medium of Jupyter Notebook for the rest of this **CWPK** series, I begin by addressing some Notebook use tips. Most of the suggestions, however, deal with using the Python language directly. I have split that section up into numerous sub-topics.\n",
    "\n",
    "An interesting aspect of using [owlready2](https://owlready2.readthedocs.io/en/latest/intro.html) as our API to OWL is its design decision to align classes within RDF and OWL to the class concept in Python. My intuition (and the results as we proceed) tells me that was the correct design decision, since it affords using Python directly against the API. However, it does impose the price of needing to have data types expressed in the right form at the right time. That means one of our Python tips is how to move owlready2 class objects into strings for manipulation and then the reverse. It is these kinds of lessons that we have assembled in this installment."
   ]
  },
  {
   "cell_type": "markdown",
   "metadata": {},
   "source": [
    "### General Tips\n",
    "I began these **CWPK** efforts with a local system and my local file directories. However, as I began to release code and reference ontologies, my efforts inexorably shifted to the [GitHub](https://github.com/Cognonto/CWPK) environment. (One can also use [Bitbucket](https://bitbucket.org/product) if the need is to keep information proprietary.) This focus was further reinforced as we moved our code into the cloud, as discussed in the latter installments. Were I to start a new initiative from scratch, I would recommend starting with a GitHub-like focus first, and use Git to move code and data from there to all local and other remote or cloud environments."
   ]
  },
  {
   "cell_type": "markdown",
   "metadata": {},
   "source": [
    "### Notebook Tips\n",
    "In just a short period of time, I have become an enthusiast about the Notebook environment. I like the idea of easily opening a new 'cell' and being able to insert code that executes or to provide nicely formatted narrative the explains what we are doing. I have also come to like the [Markdown](https://en.wikipedia.org/wiki/Markdown) markup language. I have been writing markup languages going back to SGML, XML, and now HTML and wikitext. I have found Markdown the most intuitive and fastest to use. So, I encourage you to enjoy your Notebook!\n",
    "\n",
    "Here are some other tips I can offer about using Notebooks:\n",
    "\n",
    "- Keep narrative (Markdown) cells relatively short, since when you run the cell the cursor places at bottom of cell and long narrative cells require too much scrolling\n",
    "- Do not need to keep importing modules at the top of a cell if they have been imported before. However, you can lose notebook state. In which case, you need to Run all of the cells and in order to get back to the current state\n",
    "- When working through the development of new routines, remember to run Kernel &rarr; Restart & Clear Output. You will again need to progress through the cells to return to the proper state, but without clearing after an error you can get a run failure just because of residue interim states. To get to any meaningful state with KBpedia, one needs at least to invoke these resources:\n",
    "\n",
    "<div style=\"background-color:#eee; border:1px dotted #aaa; vertical-align:middle; margin:15px 60px; padding:8px;\"><strong>Which environment?</strong> The specific load routine you should choose below depends on whether you are using the online MyBinder service (the 'raw' version) or local files. The one below is based on the local file approach. See <a href=\"https://www.mkbergman.com/2347/cwpk-17-choosing-and-installing-an-owl-api/\"><strong>CWPK #17</strong></a> for further details.</div>"
   ]
  },
  {
   "cell_type": "code",
   "execution_count": 7,
   "metadata": {},
   "outputs": [],
   "source": [
    "main = 'C:/1-PythonProjects/owlready2/kg/kbpedia_reference_concepts.owl'\n",
    "skos_file = 'http://www.w3.org/2004/02/skos/core'\n",
    "kko_file = 'C:/1-PythonProjects/owlready2/kg/kko.owl'\n",
    "\n",
    "from owlready2 import *\n",
    "world = World()\n",
    "kb = world.get_ontology(main).load()\n",
    "rc = kb.get_namespace('http://kbpedia.org/kko/rc/')\n",
    "\n",
    "skos = world.get_ontology(skos_file).load()\n",
    "kb.imported_ontologies.append(skos)\n",
    "\n",
    "kko = world.get_ontology(kko_file).load()\n",
    "kb.imported_ontologies.append(kko)"
   ]
  },
  {
   "cell_type": "markdown",
   "metadata": {},
   "source": [
    "- When using a cell in Markdown mode for narratives, it is sometimes useful to be able to add HTML code directly. A nice Jupyter Notebook WYSIWYG assistant is:\n",
    "  - https://github.com/genepattern/jupyter-wysiwyg; install via:\n",
    "<pre>  \n",
    "  conda install -c genepattern jupyter-wysiwyg\n",
    "</pre> \n",
    "  However, after a period of time I reversed that position, since I found using the assistant caused all of the cell code to be converted to HTML vs Markdown. It is actually easier to use Markdown for simple HTML formatting \n",
    "- I tend to keep only one or two Notebook pages active at a time (closing out by first File &rarr; Save and Checkpoint, and then File &rarr; Close and Halt), because not properly closing a Notebook page means it is shown as open next you open the Notebook\n",
    "- When working with notebook files, running certain cells that cause long lists to be generated or large data arrays to be analyzed can cause the notebook file when saved to grow into a very large size. To keep notebook file sizes manageable, invoke Cell &rarr; Current Output &rarr; Clear on the offending cells \n",
    "- When starting a new installment, I tend to first set up the environment by loading all of the proper knowledge bases in the environment, then I am able to start working on new routines."
   ]
  },
  {
   "cell_type": "markdown",
   "metadata": {},
   "source": [
    "### Python Tips\n",
    "We have some clusters of discussion areas below, but first, here are some general and largely unconnected observations of working with Python:\n",
    "\n",
    "- A file name like <code>exercise_1.py</code> is better than the name <code>exercise-1.py</code>, since hyphens are disfavored in Python\n",
    "- When in trouble, be aggressive using Web search. There is tremendous online Python assistance\n",
    "- When routines do not work, make aggressive us of <code>print</code> statements, including a label or recall of a variable to place the error in context (also <code>logging</code>, but that is addressed much later in the series)\n",
    "- Also use counters to make sure items are progressing properly through loops, which is more important when loops are nested\n",
    "- Take advantage of the Notebook interactive environment by first entering and getting code snippets to work, then build up to more formal function definitions\n",
    "- When debugging or trying to isolate issues, comment out working code blocks to speed execution and narrow the range of inspection\n",
    "- Watch out for proper indenting on loops\n",
    "- Stay with the most recent/used versions of Python. It is not a student's job to account for the legacy of a language. If earlier version compatibilty is needed, there are experienced programmers from that era and you will be better able to recognize the nuances in your modern implementation\n",
    "- I think I like the dictionary ('<code>dict</code>') data structure within Python the best of all. Reportedly Python itself depends heavily on this construct, but I have found <code>dict</code> to be useful (though have not tested the accompanying performance betterment claims)\n",
    "- Try to always begin your routines with the 'preliminaries' of first defining variables, setting counters or lists to empty, etc.\n",
    "\n",
    "#### Anatomy of a Statement\n",
    "A general Python statement tends to have a form similar to:\n",
    "\n",
    "<pre>\n",
    "  world.search(iri = \"*luggage*\", _case_sensitive = False)\n",
    "</pre>\n",
    "\n",
    "The so-called 'dot' notation shows the hierarchy of namespaces and attributes. In this instance, 'world' is a namespace, and 'search' is a function. In other instances it might be 'class' 'property' or other hierarchical relationships.\n",
    "\n",
    "An item that remains confusing to me is when to use namespace prefixes, and when not. I think as I state a couple of times throughout this **CWPK** series, how 'namespace' is implemented in Python is not intuitive to me, and has likely not yet been explained to me properly.\n",
    "\n",
    "The arguments for the function appear within the parentheses. When first set up, many functions have 'default' arguments, and will be assigned if not specifically stated otherwise. There are some set formats for referring to these parameters; one [Web resource](https://medium.com/better-programming/what-are-args-and-kwargs-in-python-6aaf9e3cad73 ) is particularly helpful in deciphering them. You may also want to learn about the [drawbacks of defaults](https://florimond.dev/blog/articles/2018/08/python-mutable-defaults-are-the-source-of-all-evil/). Generally, as a first choice, you can test a function with empty parentheses and then decompose from there when it does not work or work as you think it should.\n",
    "\n",
    "The <code>dir</code> and <code>type</code> statements can help elucidate what these internal parameters are:"
   ]
  },
  {
   "cell_type": "code",
   "execution_count": 10,
   "metadata": {},
   "outputs": [
    {
     "data": {
      "text/plain": [
       "['__call__',\n",
       " '__class__',\n",
       " '__delattr__',\n",
       " '__dir__',\n",
       " '__doc__',\n",
       " '__eq__',\n",
       " '__format__',\n",
       " '__func__',\n",
       " '__ge__',\n",
       " '__get__',\n",
       " '__getattribute__',\n",
       " '__gt__',\n",
       " '__hash__',\n",
       " '__init__',\n",
       " '__init_subclass__',\n",
       " '__le__',\n",
       " '__lt__',\n",
       " '__ne__',\n",
       " '__new__',\n",
       " '__reduce__',\n",
       " '__reduce_ex__',\n",
       " '__repr__',\n",
       " '__self__',\n",
       " '__setattr__',\n",
       " '__sizeof__',\n",
       " '__str__',\n",
       " '__subclasshook__']"
      ]
     },
     "execution_count": 10,
     "metadata": {},
     "output_type": "execute_result"
    }
   ],
   "source": [
    "dir(world.search)"
   ]
  },
  {
   "cell_type": "markdown",
   "metadata": {},
   "source": [
    "or <code>type</code>:"
   ]
  },
  {
   "cell_type": "code",
   "execution_count": 11,
   "metadata": {},
   "outputs": [
    {
     "data": {
      "text/plain": [
       "method"
      ]
     },
     "execution_count": 11,
     "metadata": {},
     "output_type": "execute_result"
    }
   ],
   "source": [
    "type(world.search)"
   ]
  },
  {
   "cell_type": "markdown",
   "metadata": {},
   "source": [
    "#### Directories and files\n",
    "Any legal directory or file name is accepted by Python. For Windows, there is often automatic conversion of URI slashes. But non-Linux systems should investigate the specific compatibilities their operating systems have for Python. The differences and nuances are small, but can be a source of frustration if overlooked.\n",
    "\n",
    "Here are some tips about directories and files:\n",
    "\n",
    "- Don't put a <code>\"\"\"comment\"\"\"</code> in the middle of a dictionary listing\n",
    "- A <code>\"\"\"comment\"\"\"</code> header is best practice for a function likely to be used multiple times\n",
    "- When reading code, the real action tends to occur at the end of a listing, meaning that understanding the code is often easier working bottom up, as references higher up in the code are more often preliminary or condition setting\n",
    "- Similarly, many routines tend to build from the inside out. At the core are the key processing and conversion steps. Prior to that is set-up, after that is staging output\n",
    "- Follow best practices for directory set ups in Python packages (see **CWPK #37**).\n",
    "\n",
    "#### Modules and libraries\n",
    "A module name must be a valid Python name, limited to letters, digits and '_'s.\n",
    "\n",
    "Modules are the largest construct in Python programs. Python programs consist of multiple module files, either included in the base package, or imported into the current program. Each module has its own container of variables. Variable names may be duplicated across modules, but are distinguished and prevented from name clashes by invoking them with the object (see earlier discussion about the 'dot notation'). You can also assign imported variables to local ones to keep the dot notation to a minimum and to promote easier to read code.\n",
    "\n",
    "#### Namespaces\n",
    "Python is an object-oriented language, wherein each object in the system has a name identifier. To prevent name conflicts, Python has a namespace construct wherein any grouping of existing object names may be linked to a namespace. The only constraint, within Python's naming conventions, is that two objects may not share the same name within a given namespace. They may share names between namespaces, but not within.\n",
    "\n",
    "The namespace construct is both assigned automatically based on certain Python activities, and may also be directly set by assignment. Import events or import artifacts, like knowledge graphs or portions thereto, are natural targets for this convenient namespace convention.\n",
    "\n",
    "When items are declared and how they are declared informs the basis of a namespace for a given item. If it is only a variable declared in a local context, it has that limited scope. But the variable may be declared in different ways or with different specified scope, in a progression that goes from local to enclosed to global and then built-in. This progression is known as the LEGB scope (see next).\n",
    "\n",
    "All of this is logical and seemingly straightforward, but what is required by Python in a given context is dependent on just that: context. Sometimes it is difficult to know within a Python program or routine exactly where one is with regard to the LEGB scope. In some cases, prefixes are necessary to cross scope boundaries; in other cases, they are not. About the best rule of thumb I have been able to derive for my own experience is to be aware the the 'dot notation' hierarchies in my program objects, and if I have difficulties getting a specific value, to add or reduce more scope definitions in the 'dot notation'.\n",
    "\n",
    "To gain a feel for namespace scope, I encourage you to test and run these examples: https://www.programiz.com/python-programming/namespace.\n",
    "\n",
    "Namespaces may relate to Python concepts like classes, functions, inner functions, variables, exceptions, comprehensions, built-in functions, standard data structures, knowledge bases, and knowledge graphs."
   ]
  },
  {
   "cell_type": "markdown",
   "metadata": {},
   "source": [
    "To understand the Python objects within your knowledge graph namespace, you can Run the following cell, which will bring up a listing of objects in each of the imported files via its associated namespace:"
   ]
  },
  {
   "cell_type": "code",
   "execution_count": null,
   "metadata": {},
   "outputs": [],
   "source": [
    "main = 'C:/1-PythonProjects/owlready2/kg/kbpedia_reference_concepts.owl'\n",
    "skos_file = 'http://www.w3.org/2004/02/skos/core'\n",
    "kko_file = 'C:/1-PythonProjects/owlready2/kg/kko.owl'\n",
    "print('startup()-> ', dir())\n",
    "\n",
    "from owlready2 import *\n",
    "print('owlready()-> ', dir(), '\\n')\n",
    "world = World()\n",
    "kb = world.get_ontology(main).load()\n",
    "rc = kb.get_namespace('http://kbpedia.org/kko/rc/')\n",
    "print('main_import()-> ', dir(), '\\n')\n",
    "\n",
    "skos = world.get_ontology(skos_file).load()\n",
    "kb.imported_ontologies.append(skos)\n",
    "print('skos_import()-> ', dir(), '\\n')\n",
    "\n",
    "kko = world.get_ontology(kko_file).load()\n",
    "kb.imported_ontologies.append(kko)\n",
    "print('kko_import()-> ', dir(), '\\n')"
   ]
  },
  {
   "cell_type": "markdown",
   "metadata": {},
   "source": [
    "You'll see that each of the major namespaces (sometimes ontologies) list out their internal objects as imported. You may pick any of these objects, and then inspect *its* attributes:"
   ]
  },
  {
   "cell_type": "code",
   "execution_count": null,
   "metadata": {},
   "outputs": [],
   "source": [
    "dir(DataProperty)"
   ]
  },
  {
   "cell_type": "markdown",
   "metadata": {},
   "source": [
    "You can always return to this page to get a global sense of what is in the knowledge graph. Similarly, you may import the *cowpoke* package (to be defined soon!) or any other Python package and inspect *its* code contents in the same manner. So, depending on how you lay out your namespaces, you may readily segregate code from knowledge graph from knowledge base, or whatever distinctions make sense for your circumstance."
   ]
  },
  {
   "cell_type": "markdown",
   "metadata": {},
   "source": [
    "#### LEGB Rule\n",
    "The scope of a name or variable depends on the place in your code where you create that variable. The Python scope concept is generally presented using a rule known as the LEGB rule. The letters in the acronym LEGB stand for Local, Enclosing, Global, and Built-in scopes. A variable is evaluated in sequence in order across LEGB, and its scope depends on the context in which it was initially declared. A variable does not apply beyond the scope in which it was defined. One typical mistake, for example, is to declare a local variable and then assume it applies outside of its local scope. Another typical mistake is to declare a local variable that has the same name as one in a broader context, and then to wonder why it does not operate as declared when in a broader scope.\n",
    "\n",
    "Probably the safest approach to the LEGB scope is to be aware of variables used in the core Python functions ('built-ins') or those in imported modules (the 'global' ones) and to avoid them in new declarations. Then, be cognizant that what you declare in local routines only apply there, unless you take explicit steps (through [declaration mechanisms](https://realpython.com/python-scope-legb-rule/#modifying-the-behavior-of-a-python-scope)) or the use of namespace and dot notation to make your intentions clear. \n",
    "\n",
    "#### Setting Proper Data Type\n",
    "Within owlready2, classes and properties are defined and treated as Python classes. Thus, when you retrieve an item or want to manipulate an item, the item needs to be specified as a proper Python class to the system. However, in moving from format to format or doing various conformance checks, the representation may come into the system as a string or list object. Knowing what representation the inputs are compared with the desired outputs is critical for certain activities in *cowpoke*. So, let's look at the canoncial means of shifting data types when dealing with listings of KBpedia classes.\n",
    "\n",
    "##### From Python Class to String\n",
    "Much of the staging of extractions is manipulating labels as strings after retrieving the objects as classes from the system. There is a simple iterator that allows us to obtain sets of classes, loop over them, and convert each item to a string in the process:\n",
    "\n",
    "<pre>\n",
    " new_str_items = []\n",
    " for item in loop:\n",
    "     a_item = item.curResource             # Retrieves curResource property for item\n",
    "     a_item = str(a_item)                  # Converts item to string                \n",
    "     new_str_items.append(a_item)          # Adds to new string list\n",
    "</pre>\n",
    "\n",
    "If you have nested items within loops, you can pick them up using the <code>enumerate</code> in the loop specification.\n",
    "##### From Sting to Python Class\n",
    "The reverse form has us specifying a string and a namespace, from which we obtain the class data type:\n",
    "\n",
    "<pre>\n",
    " for item in loop:\n",
    "     var1 = getattr(rc, str_item)   # Need to remove prefix and get from proper namespace (RC)\n",
    "     var2 = getattr(rc, str_parent) # May need to do so for parent or item for property\n",
    "     var1.is_a.append(var2)\n",
    "</pre>\n",
    "\n",
    "The general challenge in this form is to make sure that items and parents are in the form of strings without namespaces, and that the proper namespace is referenced when retrieving the actual attribute value. Many code examples throughout show examples of how to test for trap multiple namespaces."
   ]
  },
  {
   "cell_type": "markdown",
   "metadata": {},
   "source": [
    "### Additional Documentation\n",
    "I have not been comprehensive nor have found a 'great\" Python book in relation to my needs and skills. I will likely acquire more, but here are three more-or-less general purpose Python introductions that have not met my needs:\n",
    "\n",
    "- [Python Crash Course](https://www.amazon.com/dp/1593279280/ref=sspa_dk_detail_4?psc=1&spLa=ZW5jcnlwdGVkUXVhbGlmaWVyPUExODNaNjFaRDhZRkpLJmVuY3J5cHRlZElkPUEwMzYzODQ0MklLVjRXSU9IMTUyVCZlbmNyeXB0ZWRBZElkPUEwOTg4NzY4MzNaNTBHTldXVzEyNCZ3aWRnZXROYW1lPXNwX2RldGFpbCZhY3Rpb249Y2xpY2tSZWRpcmVjdCZkb05vdExvZ0NsaWNrPXRydWU=) - the index is lightweight and not generally useful; too much space devoted to their games examples; seems to lack basic program techniques\n",
    "- [Python Cookbook](https://www.amazon.com/Python-Cookbook-Third-David-Beazley/dp/1449340377/ref=pd_bxgy_img_3/145-9690592-7275929?_encoding=UTF8&pd_rd_i=1449340377&pd_rd_r=ecdf1dd9-fac4-47c6-ae90-b0ccfdd33759&pd_rd_w=TRM4e&pd_rd_wg=MvG8h&pf_rd_p=4e3f7fc3-00c8-46a6-a4db-8457e6319578&pf_rd_r=5HWMJBEKWC0NQB3H3VP2&psc=1&refRID=5HWMJBEKWC0NQB3H3VP2) - wow, I hardly found anything of direct relevance or assistance\n",
    "- [Learning Python](https://www.amazon.com/Learning-Python-5th-Mark-Lutz/dp/1449355730/ref=redir_mobile_desktop?ie=UTF8&aaxitk=pyyDguL4rBcaSnsVbpO9eA&hsa_cr_id=4158170100401&ref_=sbx_be_s_sparkle_mcd_asin_1) - perhaps the best of the three, but my verson is for Python 2 (2.6) and also lacks the intermediate, practical hands on I want (did not upgrade to later version because of the scope issues).\n",
    "\n",
    "It actually seems like online resources, plus directed Web searches when key questions arise, can overcome this lack of a general intro resource per the above.\n",
    "\n",
    "Another useful source are the [RealPython](https://realpython.com/) video tutorials, with generally the first introductory one in each area being free, has notable ones on:\n",
    "\n",
    "- [classes](https://realpython.com/lessons/classes-python/)\n",
    "- [variables](https://realpython.com/courses/variables-python/)\n",
    "- [lists and tuples](https://realpython.com/courses/lists-tuples-python/)\n",
    "- [dictionaries](https://realpython.com/courses/dictionaries-python/)\n",
    "- [functions](https://realpython.com/defining-your-own-python-function/)\n",
    "- [inner functions](https://realpython.com/inner-functions-what-are-they-good-for/#closures-and-factory-functions) (some nice code examples)\n",
    "- [built-in functions](https://realpython.com/lessons/operators-and-built-functions/)\n",
    "- [exceptions](https://realpython.com/courses/introduction-python-exceptions/)\n",
    "- [comprehensions](https://realpython.com/courses/using-list-comprehensions-effectively/)\n",
    "- [modules and packages](https://realpython.com/courses/python-modules-packages/)\n",
    "- [LEGB scope](https://realpython.com/python-scope-legb-rule/) (see this for namespace exploration examples)\n",
    "- [data types](https://realpython.com/courses/python-data-types/)\n",
    "- [reading and writing files](https://realpython.com/courses/reading-and-writing-files-python/), including [CSV](https://realpython.com/courses/reading-and-writing-csv-files/).\n",
    "\n",
    "\n",
    " <div style=\"background-color:#efefff; border:1px dotted #ceceff; vertical-align:middle; margin:15px 60px; padding:8px;\"> \n",
    "  <span style=\"font-weight: bold;\">NOTE:</span> This article is part of the <a href=\"https://www.mkbergman.com/cooking-with-python-and-kbpedia/\" style=\"font-style: italic;\">Cooking with Python and KBpedia</a> series. See the <a href=\"https://www.mkbergman.com/cooking-with-python-and-kbpedia/\"><strong>CWPK</strong> listing</a> for other articles in the series. <a href=\"http://kbpedia.org/\">KBpedia</a> has its own Web site.\n",
    "  </div>\n",
    "\n",
    "<div style=\"background-color:#ebf8e2; border:1px dotted #71c837; vertical-align:middle; margin:15px 60px; padding:8px;\"> \n",
    "\n",
    "<span style=\"font-weight: bold;\">NOTE:</span> This <strong>CWPK \n",
    "installment</strong> is available both as an online interactive\n",
    "file <a href=\"https://mybinder.org/v2/gh/Cognonto/CWPK/master\" ><img src=\"https://mybinder.org/badge_logo.svg\" style=\"display:inline-block; vertical-align: middle;\" /></a> or as a <a href=\"https://github.com/Cognonto/CWPK\" title=\"CWPK notebook\" alt=\"CWPK notebook\">direct download</a> to use locally. Make sure and pick the correct installment number. For the online interactive option, pick the <code>*.ipynb</code> file. It may take a bit of time for the interactive option to load.</div>\n",
    "\n",
    "<div style=\"background-color:#feeedc; border:1px dotted #f7941d; vertical-align:middle; margin:15px 60px; padding:8px;\"> \n",
    "<div style=\"float: left; margin-right: 5px;\"><img src=\"http://kbpedia.org/cwpk-files/warning.png\" title=\"Caution!\" width=\"32\" /></div>I am at best an amateur with Python. There are likely more efficient methods for coding these steps than what I provide. I encourage you to experiment -- which is part of the fun of Python -- and to <a href=\"mailto:mike@mkbergman.com\">notify me</a> should you make improvements.    \n",
    "\n",
    "</div>"
   ]
  }
 ],
 "metadata": {
  "kernelspec": {
   "display_name": "Python 3",
   "language": "python",
   "name": "python3"
  },
  "language_info": {
   "codemirror_mode": {
    "name": "ipython",
    "version": 3
   },
   "file_extension": ".py",
   "mimetype": "text/x-python",
   "name": "python",
   "nbconvert_exporter": "python",
   "pygments_lexer": "ipython3",
   "version": "3.8.5"
  }
 },
 "nbformat": 4,
 "nbformat_minor": 5
}
