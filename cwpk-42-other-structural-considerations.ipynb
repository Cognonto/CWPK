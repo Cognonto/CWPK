{
 "cells": [
  {
   "cell_type": "markdown",
   "metadata": {},
   "source": [
    "CWPK \\#42: Other Structural Considerations\n",
    "=======================================\n",
    "\n",
    "Segregating the Structure and Looking for Orphans\n",
    "--------------------------\n",
    "\n",
    "<div style=\"float: left; width: 305px; margin-right: 10px;\">\n",
    "\n",
    "<img src=\"http://kbpedia.org/cwpk-files/cowpoke-450.png\" title=\"Cooking with KBpedia\" width=\"350\" />\n",
    "\n",
    "</div>\n",
    "\n",
    "We have progressed through these build portions of the [*Cooking with Python and KBpedia*](https://www.mkbergman.com/cooking-with-python-and-kbpedia/) series to capture the bulk of the structure in [KBpedia](https://kbpedia.org/) by defining its classes, properties, and the hierarchical relationships among them. We have, so to speak, tossed all of the components into the bin, and have mostly defined our knowledge structure's scaffolding. But we still lack some structural definitions and analysis prior to beginning the testing for whether this structure is coherent or not. Today's installment directly addresses these gaps.\n",
    "\n",
    "You will note we still, as yet, have not done anything to annotate our concepts or predicates. That is OK, and we will hold off for a bit further, because annotations are all trappings useful for humans and language to interact with the knowledge graph. It is the structural aspects alone that set the logical framework of the knowledge graph. We will settle questions about this prior to adding labels, definitions, and alternative terms to KBpedia."
   ]
  },
  {
   "cell_type": "markdown",
   "metadata": {},
   "source": [
    "### Say Goodbye to the Start-up\n",
    "This is the last installment that we will begin with our standard start-up routine. As needed, our installments will from here on begin with standard Python module import statements. We will be moving our start-up routine into <code>cowpoke.\\_\\_main\\_\\_ import</code> and removing that comment below. We also have added the 'extract' switch, as we first described a couple of installments back:\n",
    "\n",
    "<div style=\"background-color:#eee; border:1px dotted #aaa; vertical-align:middle; margin:15px 60px; padding:8px;\"><strong>Which environment?</strong> The specific load routine you should choose below depends on whether you are using the online MyBinder service or local files. The example below is based on using local files, which given the complexity of the routines that are emerging, is probably your better choice. Make sure to modify the URIs for your local directories.</div>\n",
    "\n",
    "<div style=\"background-color:#ffc; border:1px dotted #ff0; vertical-align:middle; margin:15px 60px; padding:8px;\"><strong>Getting ready for <i>cowpoke</i>:</strong> As I mentioned a few installments back, all of this code we are assembling will be released under the <i>cowpoke</i> package come installment <b>CWPK #46</b>, which is due to be posted in one week. Stay tuned!</div>"
   ]
  },
  {
   "cell_type": "code",
   "execution_count": null,
   "metadata": {},
   "outputs": [],
   "source": [
    "from owlready2 import * \n",
    "from cowpoke.config import *\n",
    "# from cowpoke.__main__ import *\n",
    "import csv                                                \n",
    "import types\n",
    "\n",
    "world = World()\n",
    "\n",
    "kb_src = master_deck.get('kb_src')                         # we get the build setting from config.py\n",
    "\n",
    "if kb_src is None:\n",
    "    kb_src = 'standard'\n",
    "elif kb_src is 'extract':\n",
    "    kb_src = 'standard'  \n",
    "elif kb_src is 'full':\n",
    "    kb_src = 'start'    \n",
    "elif kb_src == 'sandbox':\n",
    "    kbpedia = 'C:/1-PythonProjects/kbpedia/sandbox/kbpedia_reference_concepts.owl'\n",
    "    kko_file = 'C:/1-PythonProjects/kbpedia/sandbox/kko.owl'\n",
    "elif kb_src == 'standard':\n",
    "    kbpedia = 'C:/1-PythonProjects/kbpedia/v300/targets/ontologies/kbpedia_reference_concepts.owl'\n",
    "    kko_file = 'C:/1-PythonProjects/kbpedia/v300/build_ins/stubs/kko.owl'\n",
    "elif kb_src == 'start':\n",
    "    kbpedia = 'C:/1-PythonProjects/kbpedia/v300/build_ins/stubs/kbpedia_rc_stub.owl'\n",
    "    kko_file = 'C:/1-PythonProjects/kbpedia/v300/build_ins/stubs/kko.owl'\n",
    "else:\n",
    "    print('You have entered an inaccurate source parameter for the build.')\n",
    "skos_file = 'http://www.w3.org/2004/02/skos/core' "
   ]
  },
  {
   "cell_type": "markdown",
   "metadata": {},
   "source": [
    "This will move to <code>cowpoke.\\_\\_main\\_\\_ import</code> as well:"
   ]
  },
  {
   "cell_type": "code",
   "execution_count": null,
   "metadata": {},
   "outputs": [],
   "source": [
    "kb = world.get_ontology(kbpedia).load()\n",
    "rc = kb.get_namespace('http://kbpedia.org/kko/rc/')               \n",
    "\n",
    "skos = world.get_ontology(skos_file).load()\n",
    "kb.imported_ontologies.append(skos)\n",
    "core = world.get_namespace('http://www.w3.org/2004/02/skos/core#')\n",
    "\n",
    "kko = world.get_ontology(kko_file).load()\n",
    "kb.imported_ontologies.append(kko)\n",
    "kko = kb.get_namespace('http://kbpedia.org/ontologies/kko#')"
   ]
  },
  {
   "cell_type": "markdown",
   "metadata": {},
   "source": [
    "You will need to Run (<code>shift+enter</code>) the routines above in order to test any of the subsequent methods."
   ]
  },
  {
   "cell_type": "markdown",
   "metadata": {},
   "source": [
    "### Structure Utilities\n",
    "This section describes a number of utilities we may apply to the structure of KBpedia. Most of these routines need only be run infrequently, and generally, always is preparation for testing last structure items before initiating a formal, new build.\n",
    "\n",
    "In the last installment, we developed the first two of these utilities, the <code>dup_remover</code> check and the <code>set_union</code> routine. These two join the routines below in the new <code>utils</code> module.\n",
    "\n",
    "#### SuperTypes\n",
    "In our prior build routines, we had some specific steps dealing with defining 'SuperTypes', that is, the root concepts to each of our typologies. With this new Python *cowpoke* design, these specifications have moved to the KBpedia Knowledge Ontology ([KKO](https://kbpedia.org/docs/kko-upper-structure/)) upper ontology (see [**CWPK #38**](https://www.mkbergman.com/2377/cwpk-38-stubs-and-starting-files/)). If you choose to add a new upper-level typology, you will need to take these steps:\n",
    "\n",
    "1. Using an ontology editor, add the new upper level SuperType to its appropriate level under <code>Generals</code> in  the KKO ontology;\n",
    "\n",
    "\n",
    "2. Add all required annotations (<code>definition</code>, <code>preLabel</code> and <code>altLabels</code>) for that new concept in KKO;\n",
    "\n",
    "\n",
    "3. Add a new entry to the <code>typol_dict</code> dictionary list in <code>config.py</code>;\n",
    "\n",
    "\n",
    "4. Flesh out and complete a typology flat file for that new SuperType and place it into the appropriate directory used for your builds;\n",
    "\n",
    "\n",
    "5. Build the KBpedia structure (or whatever you may have named it) and test the structure (per this and the next installments); and\n",
    "\n",
    "\n",
    "6. Add the annotations to any new RCs in the typology (**CWPK #44**).\n",
    "\n",
    "\n",
    "**Note**: Lower-level typologies may also be added to an existing KBpedia concept node ('<code>rc</code>' namespace). In those cases, the new typology needs to be added explicitly to the <code>class_struct_build</code> process in [**CWPK #40**](https://www.mkbergman.com/2379/cwpk-40-looping-and-multiple-structure-file-ingest/), but no further changes need to be made to KKO since the parent typology is already hooked into the system."
   ]
  },
  {
   "cell_type": "markdown",
   "metadata": {},
   "source": [
    "#### Difference Analysis\n",
    "The difference analysis (<code>set_difference</code>) code is mostly identical to the <code>set_union</code> routine from the prior installment, except for the difference calculation shown on the line with <span style=\"font-family: monospace\">Note #6</span>. It is best used to check the difference from only one or two other sets (typologies). \n",
    "\n",
    "The basic run command for this utility is:\n",
    "\n",
    "<pre>\n",
    "    set_difference(**build_deck)\n",
    "</pre>"
   ]
  },
  {
   "cell_type": "markdown",
   "metadata": {},
   "source": [
    "#### Disjoint Analysis\n",
    "We first showed how to list disjoint classes in [**CWPK #17**](https://www.mkbergman.com/2347/cwpk-17-choosing-and-installing-an-owl-api/). Let's take that basic command, and use it to extract our existing disjoint assignments to file, plus do a bit of output file cleanup. Since this is only rarely run (but helpful when done so!), we have not generalized it much:"
   ]
  },
  {
   "cell_type": "code",
   "execution_count": null,
   "metadata": {},
   "outputs": [],
   "source": [
    "def disjoint_status()\n",
    "    output = list(world.disjoint_classes())\n",
    "    disjoint_file = open('C:/1-PythonProjects/kbpedia/v300/build_ins/working/kbpedia_disjoint.csv', 'w', encoding='utf8')\n",
    "    disjoint_file.write('id,disjoints\\n')\n",
    "    for element in output:\n",
    "        element = str(element)\n",
    "        element = element.replace('AllDisjoint([', '')\n",
    "        element = element.replace('C:\\\\1-PythonProjects\\\\kbpedia\\\\sandbox\\\\', '')\n",
    "        element = element.replace(' | ', ',')\n",
    "        element = element.replace(' ', '')\n",
    "        element = element.replace('])', '')\n",
    "        element = element.replace(',ontology=get_ontology(\"http://kbpedia.org/ontologies/kko#\"))', '')\n",
    "        element = element.replace(']', '')\n",
    "        disjoint_file.write(element)\n",
    "        disjoint_file.write('\\n')\n",
    "    disjoint_file.close()"
   ]
  },
  {
   "cell_type": "markdown",
   "metadata": {},
   "source": [
    "Mostly this routine just cleans up the output from the standard owlready2 'disjoint' call. It was only cleaned up to the point of readability, since it will not be used in any [roundtripping](https://en.wikipedia.org/wiki/Round-trip_format_conversion). The next couple of sub-sections address how we typically handle disjointedness assertions. \n",
    "\n",
    "Disjoint assignments are some of the most important in KBpedia. We try to ensure that any truly non-overlapping typologies are declared as 'disjoint' from one another. Also, we try to scrutinize closely two typologies with only minimal overlap. These minor overlaps may be misassignments or perhaps we can move or slightly reconfigure the concept to avoid the overlap, in which case we can re-configure the two comparing typologies to be actually disjoint. We need some offline analysis to review these situations."
   ]
  },
  {
   "cell_type": "markdown",
   "metadata": {},
   "source": [
    "#### Typology Intersections\n",
    "We already showed a <code>set_intersection</code> method in the previous installment. However, for disjoint analysis we want to run pairwise comparisons between all typologies and flag those that have no overlap or have minimal overlaps. With 72 items in the current typology list (excluding <code>Generals</code>, which is the catch-all combined parent), we thus have 2,556 options to test, since order is not important in the pair. The basic formula is <code>n(n-1)/2</code>. With this many comparisons, the process clearly needs to be automated. \n",
    "\n",
    "So, our basic approach is to begin with the first typology, compare it to all others, move to the second and compare, and so forth until we have exhausted the typology list. For each iteration, we will collect the RCs from the first ontology, the RCs from the second typology, convert them to sets, and then do a set intersection. We then want to print out the count of the intersections, and the actual RCs in the two typology sets that overlap if the intersection falls below a set number of overlaps. Here is the basic routine, with notes explained after the code:"
   ]
  },
  {
   "cell_type": "code",
   "execution_count": null,
   "metadata": {},
   "outputs": [],
   "source": [
    "### KEY CONFIG SETTINGS (see build_deck in config.py) ###                \n",
    "# 'kb_src'        : 'standard'\n",
    "# count           : 20                                                    # Note 1\n",
    "# out_file        : 'C:/1-PythonProjects/kbpedia/v300/targets/stats/kko_intersections.csv'\n",
    "\n",
    "from itertools import combinations                                        # Note 2\n",
    "\n",
    "def typol_intersects(**build_deck):\n",
    "    kko_list = typol_dict.values()\n",
    "    count = build_deck.get('count')\n",
    "    out_file = build_deck.get('out_file')\n",
    "    with open(out_file, 'w', encoding='utf8') as output:\n",
    "        print('count,kko_1,kko_2,intersect RCs', file=output)\n",
    "        for i in combinations(kko_list,2):                                # Note 3\n",
    "            kko_1 = i[0]                                                  # Note 4\n",
    "            kko_2 = i[1]                                                  # Note 4\n",
    "            kko_1_frag = kko_1.replace('kko.', '')\n",
    "            kko_1 = getattr(kko, kko_1_frag)                              # Note 5\n",
    "            kko_2_frag = kko_2.replace('kko.', '')\n",
    "            kko_2 = getattr(kko, kko_2_frag)     \n",
    "            descent_1 = kko_1.descendants(include_self = False)           # Note 6\n",
    "            descent_1 = set(descent_1)\n",
    "            descent_2 = kko_2.descendants(include_self = False)\n",
    "            descent_2 = set(descent_2)\n",
    "            intersect = descent_1.intersection(descent_2)                 # Note 7\n",
    "            num = len(intersect)\n",
    "            if num <= count:                                              # Note 1\n",
    "                print(num, kko_1, kko_2, intersect, sep=',', file=output)\n",
    "            else: \n",
    "                print(num, kko_1, kko_2, sep=',', file=output)\n",
    "    print('KKO typology intersection analysis is done.')"
   ]
  },
  {
   "cell_type": "markdown",
   "metadata": {},
   "source": [
    "We pick up our settings, like other routines, from the <code>(\\*\\*build_deck)</code>, and we set a threshold of a maximum of 20 overlaps or fewer **(1)** (you may change this to any value you wish) for printing out the results. If you'd like to inspect one output (calculated as of today's installment; it may change), you can inspect the file by running this cell:"
   ]
  },
  {
   "cell_type": "code",
   "execution_count": null,
   "metadata": {},
   "outputs": [],
   "source": [
    "with open('C:/1-PythonProjects/kbpedia/sandbox/kko_intersections.csv', 'r') as f:\n",
    "    print(f.read())"
   ]
  },
  {
   "cell_type": "markdown",
   "metadata": {},
   "source": [
    "Each line in the output presents the intersection count, followed by the listing of the two typologies being compared, and the a listing of the intersecting reference concepts (RCs) if they fall below the minimum. \n",
    "\n",
    "The code takes advantage of a new module in this series, <code>itertools</code> **(2)**, that has a number of very useful data analysis options. We are looking at the <code>combinations</code> method **(3)** that iterates for us all of the unordered pairwise comparisons (2,556 in our case). We pull out the actual typology item by index from the tandem **(4)**, and, like before, evaluate that string to retrieve the actual typology class reference **(5)**. Using the owlready2 built-in function, we are able to get all of the RC descendant members for each of the typologies, convert them to sets, and then intersect them **(7)** with the efficient set intersection notation.\n",
    "\n",
    "We want to do two things with this output. First, we want to make sure that all null intersections (count = 0) are included in our disjoint assignments in KBpedia. This is where we can quickly compare to the output from the earlier <code>disjoint_status</code> function. Second, for intersections with minimal overlap, we want to inspect those items and discover if we can revise scope or assignments for some RCs to make the pair disjoint. This latter step is a bit tricky (aside from any misassignments, which have now been flagged for correction) because we do not want to change our ideas of 'natural' classes merely to make a disjoint assertion. However, sometimes either the scope of the typology, or the scope of the shared RC, may be tweaked such that a defensible disjoint status may be asserted. When there are very few overlaps, for example, one approach that has sometimes made sense is to move a concept into a parent category above the two comparison child typologies. There are also circumstances where the overlap is real, and even if only with a few overlap items, the non-disjointedness should be maintained (and thus no changes should be made).\n",
    "\n",
    "Some time and experience is likely required in this area. Disjoint assertions are some of the most powerful for inferencing and satisfiability testing of the knowledge graph. (I suspect I have spent more intellectual horsepower on the questions of disjoint typologies than any other in KBpedia.)\n",
    "\n",
    "From the standpoint of the Python code used for this method, see the concluding section under **Additional Documentation** to check out some useful sources."
   ]
  },
  {
   "cell_type": "markdown",
   "metadata": {},
   "source": [
    "#### Branch and Orphan Check\n",
    "A periodic check that is helpful is whether a given RC has a broken lineage to the root of its typology. Such unbroken links can not occur when the typology is a direct extraction from KBpedia without external modification. However, the use of external tools, general edits, or other modifications to a typology used for ingest can result in broken inheritance chains. In the case where more than one RC in a chain of RCs lacks a connection to the root, the disconnected fragment is called a 'branch'. Where the disconnected fragment is a singleton RC, it is called an 'orphan'.\n",
    "\n",
    "Again, because this routine is infrequently needed, I mostly hardwired the formal settings below. You can move them back to the <code>build_deck</code> settings. Here is the routine, with again notes that follow the code listing:"
   ]
  },
  {
   "cell_type": "code",
   "execution_count": null,
   "metadata": {},
   "outputs": [],
   "source": [
    "### KEY CONFIG SETTINGS (see build_deck in config.py) ###                  \n",
    "# 'kb_src'        : 'standard'                                        \n",
    "# 'loop_list'     : kko.Generals.descendants()                             # Note 1                            \n",
    "# 'out_file'      : 'C:/1-PythonProjects/kbpedia/v300/targets/stats/branches_orphans.csv'\n",
    "\n",
    "def branch_orphan_check(**build_deck):\n",
    "    print('Beginning branch and orphan checks . . .')                     \n",
    "#    loop_list = build_deck.get('loop_list')                               # Note 1\n",
    "    loop_list = kko.Generals.descendants()                                 # Note 2\n",
    "    loop_list = set(loop_list)\n",
    "    kko_list = list(typol_dict.values())\n",
    "    item_list = []\n",
    "    for i, item in enumerate(kko_list):                                    # Note 2                                    \n",
    "        item_frag = item.replace('kko.','')\n",
    "        kko_item = getattr(kko, item_frag)\n",
    "        kko_list[i] = kko_item\n",
    "    print('After:', kko_list)\n",
    "    out_file = 'C:/1-PythonProjects/kbpedia/v300/targets/stats/branches_orphans.csv'\n",
    "    with open(out_file, 'w', encoding='utf8') as output:\n",
    "        print('rc', file=output)\n",
    "        kko_list = set(kko_list)\n",
    "        for loopval in loop_list:\n",
    "            val = loopval\n",
    "            print('   . . . evaluating', loopval, 'checking for branches and orphans . . .')  \n",
    "            val_list = val.ancestors(include_self = False)\n",
    "            val_list = set(val_list)\n",
    "            intersect = val_list.intersection(kko_list)\n",
    "            num = len(intersect)\n",
    "            print(num)\n",
    "            if num == 0:\n",
    "                print('Unconnected RC:', val, file=output)    \n",
    "    print('Branch and orphan analysis now complete.')"
   ]
  },
  {
   "cell_type": "markdown",
   "metadata": {},
   "source": [
    "In this example, we set the overall loop basis to be all of the RCs in the system; that is, the <code>.descendants</code> of the <code>Generals</code> typology root. If to be driven from the <code>build_deck</code>, the value could be changed to a single typology using the <code>custom_dict</code> setting, but it may be just as easy to set it directly in this code.\n",
    "\n",
    "While the <code>.descendants</code> produces an array of class objects, evaluating all of the typologies requires us to loop over <code>kko_list</code>, which is a 2-tuple dictionary with the key values as strings. As we have seen before, we need to convert those strings into class object types **(2)**, which also requires us to <code>enumerate</code> the list, which allows us to substitute the initial string values to class values.\n",
    "\n",
    "We then convert our two input lists to sets, and do an intersection as in prior routines when we run the routine. If the item does not have the typology root as an ancestor, we then know the item is an orphan or the top of a branch not connected to the root.\n",
    "\n",
    "This kind of analysis is most useful when first constructing a new, initial typology. As disconnects get connected, the worth of this analysis declines."
   ]
  },
  {
   "cell_type": "code",
   "execution_count": null,
   "metadata": {},
   "outputs": [],
   "source": [
    "branch_orphan_check(**build_deck)"
   ]
  },
  {
   "cell_type": "markdown",
   "metadata": {},
   "source": [
    "#### Duplicates in the Parental Chain\n",
    "Our last structural utility at this juncture is one that analyzes whether a given reference concept (RC) is only assigned once to its lowest logical occurrence in a parental inheritance chain. While there is nothing illogical about assigning a concept wherever it is subsumed by a parent, multiple assignments for a single RC in a given inheritance chain lead to unreadability and difficulties in maintaining the system.\n",
    "\n",
    "For example, we know that a 'polar bear' is a 'bear', which is a 'mammal' that is part of 'Eutheria', all of which are 'LivingThings'. There is nothing logically wrong with assigning the 'polar bear' concept to all of these other items. Inferencing would show 'polar bear' to be a subclass of all of these items. However, redundant assignments act to clog our listing, and makes it difficult to know when we see an occurrence whether it is at its terminal node location or not. We get cleaner ontologies that are easier to maintain by trying to adhere to the best practice of a single assignment to an inheritance chain, best placed at its lowest hierarchical level.\n",
    "\n",
    "Redundant assignments, in my view, are all too common with most knowledge graphs. I like the analytical routine below since it helps me to pare down to the essence of the logic of the ontology structure. Code notes are discussed below the listing:"
   ]
  },
  {
   "cell_type": "code",
   "execution_count": 3,
   "metadata": {},
   "outputs": [],
   "source": [
    "### KEY CONFIG SETTINGS (see build_deck in config.py) ###                  \n",
    "# 'kb_src'        : 'standard'                                        \n",
    "# 'loop_list'     : kko.ProtistsFungus.descendants()                            # Note 1\n",
    "# 'out_file'      : 'C:/1-PythonProjects/kbpedia/v300/targets/stats/parental_dups.csv'\n",
    "\n",
    "\n",
    "def dups_parental_chain(**build_deck):\n",
    "    print('Beginning duplicate RC placement analysis . . .')                     \n",
    "    loop_list = kko.AudioInfo.descendants()                                # Note 1\n",
    "    out_file = 'C:/1-PythonProjects/kbpedia/v300/targets/stats/parental_dups.csv'    \n",
    "    with open(out_file, 'w', encoding='utf8') as output:\n",
    "        print('count,rc,dups', file=output)\n",
    "        for item in loop_list:                                            # Note 2\n",
    "            rc = item\n",
    "            rc_list = rc.ancestors(include_self = False)\n",
    "            dup_keep = []\n",
    "            for par_item in rc_list:\n",
    "                parent = par_item\n",
    "                par_list = parent.subclasses()\n",
    "                for dup_item in par_list:\n",
    "                    dup = dup_item\n",
    "                    if rc == dup:\n",
    "#                        dup_check = dup.ancestors(include_self = False)\n",
    "#                        if(all(x in rc_list for x in dup_check)):\n",
    "#                            print(rc, ',', parent, file=output)   \n",
    "                        dup_keep.append(parent)                \n",
    "            count = len(dup_keep)\n",
    "            if count > 1:\n",
    "                print(count, ',', rc, ',', dup_keep, file=output)\n",
    "    print('Duplicate RC checking and analysis is complete.')"
   ]
  },
  {
   "cell_type": "code",
   "execution_count": 4,
   "metadata": {},
   "outputs": [
    {
     "name": "stdout",
     "output_type": "stream",
     "text": [
      "Beginning duplicate RC placement analysis . . .\n",
      "Duplicate RC checking and analysis is complete.\n"
     ]
    }
   ],
   "source": [
    "dups_parental_chain(**build_deck)"
   ]
  },
  {
   "cell_type": "markdown",
   "metadata": {},
   "source": [
    "On my local machine, this analysis takes about 3.5 minutes to run.\n",
    "\n",
    "We directly assign to trace all of the RCs under the <code>Generals</code> root **(1)**, of the three in the KKO's universal categories. Again, these can be tailored through settings from the <code>build_deck</code>. If you do so, make sure you make the <code>.descendants</code> assignment as well. The remaining parts of the routine should be somewhat familiar by now.\n",
    "\n",
    "The routine basically works by first looping over all of the  RCs in the system **(2)**, grabbing all ancestors up to the <code>owl.Thing</code> root, looping over all of the ancestors and grabbing their immediate subclasses, and then checking to see if one of the subclasses is the starting RC. If so, that is recorded, and RCs with more than one subclass instance are written to file. \n",
    "\n",
    "These listings perhaps could be reduced further in size with further filtering. However, it is best I believe, at this juncture, to manually inspect such structural changes. It is straightforward to manually check the RCs listed, and remove any superfluous subsumption assignments.\n",
    "\n",
    "I may add some more refinements to this routine later to flag any subclass assignments that occur in the same parental chain."
   ]
  },
  {
   "cell_type": "markdown",
   "metadata": {},
   "source": [
    "\n",
    "If our system passes the tests above, or at least to the extent that we, as knowledge graph managers, deem acceptable for a next release, then we are ready to begin our logic tests of the structure, the subject of our next installment.\n"
   ]
  },
  {
   "cell_type": "markdown",
   "metadata": {},
   "source": [
    "### Additional Documentation\n",
    "\n",
    "Here are some useful links on the <code>itertools</code> module, as well as other pairwise considerations:\n",
    "\n",
    "- https://stackoverflow.com/questions/40092474/what-is-the-fastest-way-to-get-all-pairwise-combinations-in-an-array-in-python/40092500\n",
    "- https://docs.python.org/3/library/itertools.html#module-itertools\n",
    "- https://realpython.com/python-itertools/\n",
    "- https://pymotw.com/3/itertools/index.html\n",
    "- https://developer.ibm.com/tutorials/ba-on-demand-data-python-2/\n",
    "\n",
    "<div style=\"background-color:#efefff; border:1px dotted #ceceff; vertical-align:middle; margin:15px 60px; padding:8px;\"> \n",
    "  <span style=\"font-weight: bold;\">NOTE:</span> This article is part of the <a href=\"https://www.mkbergman.com/cooking-with-python-and-kbpedia/\" style=\"font-style: italic;\">Cooking with Python and KBpedia</a> series. See the <a href=\"https://www.mkbergman.com/cooking-with-python-and-kbpedia/\"><strong>CWPK</strong> listing</a> for other articles in the series. <a href=\"http://kbpedia.org/\">KBpedia</a> has its own Web site.\n",
    "  </div>\n",
    "\n",
    "<div style=\"background-color:#ebf8e2; border:1px dotted #71c837; vertical-align:middle; margin:15px 60px; padding:8px;\"> \n",
    "\n",
    "<span style=\"font-weight: bold;\">NOTE:</span> This <strong>CWPK \n",
    "installment</strong> is available both as an online interactive\n",
    "file <a href=\"https://mybinder.org/v2/gh/Cognonto/CWPK/master\" ><img src=\"https://mybinder.org/badge_logo.svg\" style=\"display:inline-block; vertical-align: middle;\" /></a> or as a <a href=\"https://github.com/Cognonto/CWPK\" title=\"CWPK notebook\" alt=\"CWPK notebook\">direct download</a> to use locally. Make sure and pick the correct installment number. For the online interactive option, pick the <code>*.ipynb</code> file. It may take a bit of time for the interactive option to load.</div>\n",
    "\n",
    "<div style=\"background-color:#feeedc; border:1px dotted #f7941d; vertical-align:middle; margin:15px 60px; padding:8px;\"> \n",
    "<div style=\"float: left; margin-right: 5px;\"><img src=\"http://kbpedia.org/cwpk-files/warning.png\" title=\"Caution!\" width=\"32\" /></div>I am at best an amateur with Python. There are likely more efficient methods for coding these steps than what I provide. I encourage you to experiment -- which is part of the fun of Python -- and to <a href=\"mailto:mike@mkbergman.com\">notify me</a> should you make improvements.    \n",
    "\n",
    "</div>"
   ]
  }
 ],
 "metadata": {
  "kernelspec": {
   "display_name": "Python 3",
   "language": "python",
   "name": "python3"
  },
  "language_info": {
   "codemirror_mode": {
    "name": "ipython",
    "version": 3
   },
   "file_extension": ".py",
   "mimetype": "text/x-python",
   "name": "python",
   "nbconvert_exporter": "python",
   "pygments_lexer": "ipython3",
   "version": "3.7.6"
  }
 },
 "nbformat": 4,
 "nbformat_minor": 5
}
