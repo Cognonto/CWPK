{
 "cells": [
  {
   "cell_type": "markdown",
   "metadata": {},
   "source": [
    "CWPK \\#26: Introduction to Knowledge Graph Reasoners\n",
    "=======================================\n",
    "\n",
    "Two Standards Come Pre-packaged with Owlready2\n",
    "--------------------------\n",
    "\n",
    "<div style=\"float: left; width: 305px; margin-right: 10px;\">\n",
    "\n",
    "<img src=\"http://kbpedia.org/cwpk-files/cooking-with-kbpedia-305.png\" title=\"Cooking with KBpedia\" width=\"305\" />\n",
    "\n",
    "</div>\n",
    "\n",
    "We introduce [OWL](https://en.wikipedia.org/wiki/Web_Ontology_Language) (knowledge graph) [reasoners](https://en.wikipedia.org/wiki/Semantic_reasoner) in this installment of the [*Cooking with Python and KBpedia*](https://www.mkbergman.com/cooking-with-python-and-kbpedia/) series. A reasoner has two purposes. First, based on deductive reasoning, a reasoner can infer new class and property assignments that are logically entailed by the assertions in an ontology (that is, from its [axioms](https://en.wikipedia.org/wiki/Axiom)) but not otherwise explicitly stated. Once inferred, these additional assignments can be written to an inferred version of the ontology for faster lookups and analysis. Second, reasoners can evaluate the stated axioms to determine if the ontology is [consistent](https://en.wikipedia.org/wiki/Consistency) or [satisfiable](https://en.wikipedia.org/wiki/Satisfiability). This second purpose is a key step when building or modifying a knowledge graph to ensure that illogical assertions are not introduced into the system. Reasoners thus often have explanation routines that point out where the inconsistencies or problems occur, thus helping the analyst to fix the errors before committing to productive use. In later installments we will focus especially on these coherency tests when we discuss the build procedures for KBpedia.\n",
    "\n",
    "Consistency is when none of the assertions (axioms) in the knowledge graph contradicts another one. If there is a contradiction the graph is termed to be *inconsistent*. Satisfiability individually evaluates the classes in the graph and checks to see if they can have instances without contradicting other asserted axioms. Unsatisfiability indicates there is a conflicting or missing assignment that needs to be corrected. It is a particularly useful check when there are disjoint assertions made between classes, one of the design pillars of KBpedia. \n",
    "\n",
    "[Owlready2](http://www.lesfleursdunormal.fr/static/informatique/owlready/index_en.html) is distributed with two OWL reasoners:\n",
    "\n",
    "- [HermiT](http://www.hermit-reasoner.com/), developed by the department of Computer Science of the University of Oxford, and\n",
    "- [Pellet](https://github.com/stardog-union/pellet), a reasoner developed specifically to support the OWL language.\n",
    "\n",
    "Both HermiT and Pellet are written in Java, so require access to a JVM on your system. If you have difficulty running these systems it is likely because you: 1) do not have a recent version of Java installed on your system; or 2) do not have a proper <code>PATH</code> statement in your environmental variables to find the Java executable. If you encounter such problems, please consult third-party sources to get Java properly configured for your system before continuing with this installment."
   ]
  },
  {
   "cell_type": "markdown",
   "metadata": {},
   "source": [
    "### Test Ontology\n",
    "To make sure that your system is configured properly, go ahead and <code>shift+enter</code> or Run this cell that enters a small example ontology from the [owlready2 documentation](https://owlready2.readthedocs.io/en/latest/reasoning.html):"
   ]
  },
  {
   "cell_type": "code",
   "execution_count": 1,
   "metadata": {},
   "outputs": [],
   "source": [
    "from owlready2 import *\n",
    "\n",
    "onto = get_ontology(\"http://test.org/onto.owl\")\n",
    "\n",
    "with onto:\n",
    "    class Drug(Thing):\n",
    "        def take(self): print(\"I took a drug\")\n",
    "\n",
    "    class ActivePrinciple(Thing):\n",
    "        pass\n",
    "\n",
    "    class has_for_active_principle(Drug >> ActivePrinciple):\n",
    "        python_name = \"active_principles\"\n",
    "\n",
    "    class Placebo(Drug):\n",
    "        equivalent_to = [Drug & Not(has_for_active_principle.some(ActivePrinciple))]\n",
    "        def take(self): print(\"I took a placebo\")\n",
    "\n",
    "    class SingleActivePrincipleDrug(Drug):\n",
    "        equivalent_to = [Drug & has_for_active_principle.exactly(1, ActivePrinciple)]\n",
    "        def take(self): print(\"I took a drug with a single active principle\")\n",
    "\n",
    "    class DrugAssociation(Drug):\n",
    "        equivalent_to = [Drug & has_for_active_principle.min(2, ActivePrinciple)]\n",
    "        def take(self): print(\"I took a drug with %s active principles\" % len(self.active_principles))\n",
    "\n",
    "acetaminophen   = ActivePrinciple(\"acetaminophen\")\n",
    "amoxicillin     = ActivePrinciple(\"amoxicillin\")\n",
    "clavulanic_acid = ActivePrinciple(\"clavulanic_acid\")\n",
    "\n",
    "AllDifferent([acetaminophen, amoxicillin, clavulanic_acid])\n",
    "\n",
    "drug1 = Drug(active_principles = [acetaminophen])\n",
    "drug2 = Drug(active_principles = [amoxicillin, clavulanic_acid])\n",
    "drug3 = Drug(active_principles = [])\n",
    "\n",
    "close_world(Drug)"
   ]
  },
  {
   "cell_type": "markdown",
   "metadata": {},
   "source": [
    "Then, run the HermiT reasoner with the single command:"
   ]
  },
  {
   "cell_type": "code",
   "execution_count": 2,
   "metadata": {},
   "outputs": [
    {
     "name": "stderr",
     "output_type": "stream",
     "text": [
      "* Owlready2 * Running HermiT...\n",
      "    java -Xmx2000M -cp C:\\1-PythonProjects\\Python\\lib\\site-packages\\owlready2\\hermit;C:\\1-PythonProjects\\Python\\lib\\site-packages\\owlready2\\hermit\\HermiT.jar org.semanticweb.HermiT.cli.CommandLine -c -O -D -I file:///C:/Users/mike/AppData/Local/Temp/tmpbnxf7755\n",
      "* Owlready2 * HermiT took 0.4851553440093994 seconds\n",
      "* Owlready * Reparenting onto.drug2: {onto.Drug} => {onto.DrugAssociation}\n",
      "* Owlready * Reparenting onto.drug1: {onto.Drug} => {onto.SingleActivePrincipleDrug}\n",
      "* Owlready * Reparenting onto.drug3: {onto.Drug} => {onto.Placebo}\n",
      "* Owlready * (NB: only changes on entities loaded in Python are shown, other changes are done but not listed)\n"
     ]
    }
   ],
   "source": [
    "sync_reasoner()"
   ]
  },
  {
   "cell_type": "markdown",
   "metadata": {},
   "source": [
    "The feedback you get to screen should indicate that you are 'Reparenting' the three drugs from one class (<code>Drug</code>) to their appropriate sublasses. By the way, you could also place this argument in the command to turn off the debug reports to screen: <code>$ sync_reasoner(debug = 0)</code>.\n",
    "\n",
    "You can also confirm this move for <code>drug2</code>: "
   ]
  },
  {
   "cell_type": "code",
   "execution_count": 7,
   "metadata": {},
   "outputs": [
    {
     "name": "stdout",
     "output_type": "stream",
     "text": [
      "drug2 new Classes: onto.DrugAssociation\n"
     ]
    }
   ],
   "source": [
    "print(\"drug2 new Classes:\", drug2.__class__)"
   ]
  },
  {
   "cell_type": "markdown",
   "metadata": {},
   "source": [
    "And, then, in the next three cells, confirm how you took those three drugs:"
   ]
  },
  {
   "cell_type": "code",
   "execution_count": 4,
   "metadata": {},
   "outputs": [
    {
     "name": "stdout",
     "output_type": "stream",
     "text": [
      "I took a drug with a single active principle\n"
     ]
    }
   ],
   "source": [
    "drug1.take()"
   ]
  },
  {
   "cell_type": "code",
   "execution_count": 5,
   "metadata": {},
   "outputs": [
    {
     "name": "stdout",
     "output_type": "stream",
     "text": [
      "I took a drug with 2 active principles\n"
     ]
    }
   ],
   "source": [
    "drug2.take()"
   ]
  },
  {
   "cell_type": "code",
   "execution_count": 6,
   "metadata": {},
   "outputs": [
    {
     "name": "stdout",
     "output_type": "stream",
     "text": [
      "I took a placebo\n"
     ]
    }
   ],
   "source": [
    "drug3.take()"
   ]
  },
  {
   "cell_type": "markdown",
   "metadata": {},
   "source": [
    "And, last, in the next two cells discover if any inconsistent classes remain (they do not), which is equivalent to a class being assigned to the <code>Nothing</code> class in OWL:"
   ]
  },
  {
   "cell_type": "code",
   "execution_count": 7,
   "metadata": {},
   "outputs": [
    {
     "data": {
      "text/plain": [
       "[]"
      ]
     },
     "execution_count": 7,
     "metadata": {},
     "output_type": "execute_result"
    }
   ],
   "source": [
    "list(default_world.inconsistent_classes())"
   ]
  },
  {
   "cell_type": "code",
   "execution_count": 3,
   "metadata": {},
   "outputs": [],
   "source": [
    "if Nothing in Drug.equivalent_to:\n",
    "       print(\"Drug is inconsistent!\")"
   ]
  },
  {
   "cell_type": "markdown",
   "metadata": {},
   "source": [
    "### General Load Method\n",
    "OK, so now we see the HermiT reasoner is configured properly and working, we are now ready to test our KBpedia knowledge graph. Go ahead and select Kernel &rarr; Restart & Clear Output from the main menu to begin the next activities from a clean slate.\n",
    "\n",
    "Then execute what has become our standard load procedure:\n",
    "\n",
    "<div style=\"background-color:#eee; border:1px dotted #aaa; vertical-align:middle; margin:15px 60px; padding:8px;\"><strong>Which environment?</strong> The specific load routine you should choose below depends on whether you are using the online MyBinder service (the 'raw' version) or local files. The example below is based on using local files (though replace with your own local directory specification). If loading from MyBinder, replace with the lines that are commented (<code>#</code>) out.</div>"
   ]
  },
  {
   "cell_type": "code",
   "execution_count": 1,
   "metadata": {},
   "outputs": [],
   "source": [
    "main = 'C:/1-PythonProjects/kbpedia/sandbox/kbpedia_reference_concepts.owl'\n",
    "# main = 'https://raw.githubusercontent.com/Cognonto/CWPK/master/sandbox/builds/ontologies/kbpedia_reference_concepts.owl'\n",
    "skos_file = 'http://www.w3.org/2004/02/skos/core' \n",
    "kko_file = 'C:/1-PythonProjects/kbpedia/sandbox/kko.owl'\n",
    "# kko_file = 'https://raw.githubusercontent.com/Cognonto/CWPK/master/sandbox/builds/ontologies/kko.owl'\n",
    "\n",
    "from owlready2 import *\n",
    "world = World()\n",
    "kb = world.get_ontology(main).load()\n",
    "rc = kb.get_namespace('http://kbpedia.org/kko/rc/')\n",
    "\n",
    "skos = world.get_ontology(skos_file).load()\n",
    "kb.imported_ontologies.append(skos)\n",
    "\n",
    "kko = world.get_ontology(kko_file).load()\n",
    "kb.imported_ontologies.append(kko)"
   ]
  },
  {
   "cell_type": "markdown",
   "metadata": {},
   "source": [
    "### HermiT Reasoner\n",
    "We again invoke the HermiT reasoner:"
   ]
  },
  {
   "cell_type": "code",
   "execution_count": 7,
   "metadata": {},
   "outputs": [
    {
     "name": "stderr",
     "output_type": "stream",
     "text": [
      "* Owlready2 * Running HermiT...\n",
      "    java -Xmx2000M -cp C:\\1-PythonProjects\\Python\\lib\\site-packages\\owlready2\\hermit;C:\\1-PythonProjects\\Python\\lib\\site-packages\\owlready2\\hermit\\HermiT.jar org.semanticweb.HermiT.cli.CommandLine -c -O -D -I file:///C:/Users/mike/AppData/Local/Temp/tmpxglvdub2\n",
      "* Owlready2 * HermiT took 0.42046189308166504 seconds\n",
      "* Owlready * (NB: only changes on entities loaded in Python are shown, other changes are done but not listed)\n"
     ]
    }
   ],
   "source": [
    "sync_reasoner()"
   ]
  },
  {
   "cell_type": "markdown",
   "metadata": {},
   "source": [
    "There is also an argument to <code>infer_property_values = True</code>:"
   ]
  },
  {
   "cell_type": "code",
   "execution_count": 4,
   "metadata": {},
   "outputs": [
    {
     "name": "stderr",
     "output_type": "stream",
     "text": [
      "* Owlready2 * Running HermiT...\n",
      "    java -Xmx2000M -cp C:\\1-PythonProjects\\Python\\lib\\site-packages\\owlready2\\hermit;C:\\1-PythonProjects\\Python\\lib\\site-packages\\owlready2\\hermit\\HermiT.jar org.semanticweb.HermiT.cli.CommandLine -c -O -D -I file:///C:/Users/mike/AppData/Local/Temp/tmpxkc92ws4 -Y\n",
      "* Owlready2 * HermiT took 0.416165828704834 seconds\n",
      "* Owlready * (NB: only changes on entities loaded in Python are shown, other changes are done but not listed)\n"
     ]
    }
   ],
   "source": [
    "sync_reasoner(infer_property_values = True)"
   ]
  },
  {
   "cell_type": "markdown",
   "metadata": {},
   "source": [
    "We see that the ontology is consistent, which we can confirm with this additional command:"
   ]
  },
  {
   "cell_type": "code",
   "execution_count": 3,
   "metadata": {},
   "outputs": [
    {
     "data": {
      "text/plain": [
       "[]"
      ]
     },
     "execution_count": 3,
     "metadata": {},
     "output_type": "execute_result"
    }
   ],
   "source": [
    "list(world.inconsistent_classes())"
   ]
  },
  {
   "cell_type": "markdown",
   "metadata": {},
   "source": [
    "### Pellet Reasoner\n",
    "The second of our reasoners, Pellet, operates under a similar set of arguments. We invoke Pellet through the modified reasoner command:."
   ]
  },
  {
   "cell_type": "code",
   "execution_count": 4,
   "metadata": {},
   "outputs": [
    {
     "name": "stderr",
     "output_type": "stream",
     "text": [
      "* Owlready2 * Running Pellet...\n",
      "    java -Xmx2000M -cp C:\\1-PythonProjects\\Python\\lib\\site-packages\\owlready2\\pellet\\antlr-3.2.jar;C:\\1-PythonProjects\\Python\\lib\\site-packages\\owlready2\\pellet\\antlr-runtime-3.2.jar;C:\\1-PythonProjects\\Python\\lib\\site-packages\\owlready2\\pellet\\aterm-java-1.6.jar;C:\\1-PythonProjects\\Python\\lib\\site-packages\\owlready2\\pellet\\commons-codec-1.6.jar;C:\\1-PythonProjects\\Python\\lib\\site-packages\\owlready2\\pellet\\httpclient-4.2.3.jar;C:\\1-PythonProjects\\Python\\lib\\site-packages\\owlready2\\pellet\\httpcore-4.2.2.jar;C:\\1-PythonProjects\\Python\\lib\\site-packages\\owlready2\\pellet\\jcl-over-slf4j-1.6.4.jar;C:\\1-PythonProjects\\Python\\lib\\site-packages\\owlready2\\pellet\\jena-arq-2.10.0.jar;C:\\1-PythonProjects\\Python\\lib\\site-packages\\owlready2\\pellet\\jena-core-2.10.0.jar;C:\\1-PythonProjects\\Python\\lib\\site-packages\\owlready2\\pellet\\jena-iri-0.9.5.jar;C:\\1-PythonProjects\\Python\\lib\\site-packages\\owlready2\\pellet\\jena-tdb-0.10.0.jar;C:\\1-PythonProjects\\Python\\lib\\site-packages\\owlready2\\pellet\\jgrapht-jdk1.5.jar;C:\\1-PythonProjects\\Python\\lib\\site-packages\\owlready2\\pellet\\log4j-1.2.16.jar;C:\\1-PythonProjects\\Python\\lib\\site-packages\\owlready2\\pellet\\owlapi-distribution-3.4.3-bin.jar;C:\\1-PythonProjects\\Python\\lib\\site-packages\\owlready2\\pellet\\pellet-2.3.1.jar;C:\\1-PythonProjects\\Python\\lib\\site-packages\\owlready2\\pellet\\slf4j-api-1.6.4.jar;C:\\1-PythonProjects\\Python\\lib\\site-packages\\owlready2\\pellet\\slf4j-log4j12-1.6.4.jar;C:\\1-PythonProjects\\Python\\lib\\site-packages\\owlready2\\pellet\\xercesImpl-2.10.0.jar;C:\\1-PythonProjects\\Python\\lib\\site-packages\\owlready2\\pellet\\xml-apis-1.4.01.jar pellet.Pellet realize --loader Jena --input-format N-Triples --ignore-imports C:\\Users\\mike\\AppData\\Local\\Temp\\tmp7_rotl4_\n",
      "* Owlready2 * Pellet took 1.017836093902588 seconds\n",
      "* Owlready * (NB: only changes on entities loaded in Python are shown, other changes are done but not listed)\n"
     ]
    }
   ],
   "source": [
    "sync_reasoner_pellet()"
   ]
  },
  {
   "cell_type": "markdown",
   "metadata": {},
   "source": [
    "Pellet, too, is configured to run in a debug mode. If you wish, you may turn it off with <code>$ sync_reasoner(debug = 0)</code>.\n",
    "\n",
    "Like HermiT we can also <code>infer_property_values</code>. But, different than HermiT, we may also <code>infer_data_property_values = True</code> using Pellet:"
   ]
  },
  {
   "cell_type": "code",
   "execution_count": 18,
   "metadata": {},
   "outputs": [
    {
     "name": "stderr",
     "output_type": "stream",
     "text": [
      "* Owlready2 * Running Pellet...\n",
      "    java -Xmx2000M -cp C:\\1-PythonProjects\\Python\\lib\\site-packages\\owlready2\\pellet\\antlr-3.2.jar;C:\\1-PythonProjects\\Python\\lib\\site-packages\\owlready2\\pellet\\antlr-runtime-3.2.jar;C:\\1-PythonProjects\\Python\\lib\\site-packages\\owlready2\\pellet\\aterm-java-1.6.jar;C:\\1-PythonProjects\\Python\\lib\\site-packages\\owlready2\\pellet\\commons-codec-1.6.jar;C:\\1-PythonProjects\\Python\\lib\\site-packages\\owlready2\\pellet\\httpclient-4.2.3.jar;C:\\1-PythonProjects\\Python\\lib\\site-packages\\owlready2\\pellet\\httpcore-4.2.2.jar;C:\\1-PythonProjects\\Python\\lib\\site-packages\\owlready2\\pellet\\jcl-over-slf4j-1.6.4.jar;C:\\1-PythonProjects\\Python\\lib\\site-packages\\owlready2\\pellet\\jena-arq-2.10.0.jar;C:\\1-PythonProjects\\Python\\lib\\site-packages\\owlready2\\pellet\\jena-core-2.10.0.jar;C:\\1-PythonProjects\\Python\\lib\\site-packages\\owlready2\\pellet\\jena-iri-0.9.5.jar;C:\\1-PythonProjects\\Python\\lib\\site-packages\\owlready2\\pellet\\jena-tdb-0.10.0.jar;C:\\1-PythonProjects\\Python\\lib\\site-packages\\owlready2\\pellet\\jgrapht-jdk1.5.jar;C:\\1-PythonProjects\\Python\\lib\\site-packages\\owlready2\\pellet\\log4j-1.2.16.jar;C:\\1-PythonProjects\\Python\\lib\\site-packages\\owlready2\\pellet\\owlapi-distribution-3.4.3-bin.jar;C:\\1-PythonProjects\\Python\\lib\\site-packages\\owlready2\\pellet\\pellet-2.3.1.jar;C:\\1-PythonProjects\\Python\\lib\\site-packages\\owlready2\\pellet\\slf4j-api-1.6.4.jar;C:\\1-PythonProjects\\Python\\lib\\site-packages\\owlready2\\pellet\\slf4j-log4j12-1.6.4.jar;C:\\1-PythonProjects\\Python\\lib\\site-packages\\owlready2\\pellet\\xercesImpl-2.10.0.jar;C:\\1-PythonProjects\\Python\\lib\\site-packages\\owlready2\\pellet\\xml-apis-1.4.01.jar pellet.Pellet realize --loader Jena --input-format N-Triples --infer-prop-values --infer-data-prop-values --ignore-imports C:\\Users\\mike\\AppData\\Local\\Temp\\tmpcr2dw8yi\n",
      "* Owlready2 * Pellet took 0.6863009929656982 seconds\n",
      "* Owlready * (NB: only changes on entities loaded in Python are shown, other changes are done but not listed)\n"
     ]
    }
   ],
   "source": [
    "sync_reasoner_pellet(infer_property_values = True, infer_data_property_values = True)"
   ]
  },
  {
   "cell_type": "code",
   "execution_count": 5,
   "metadata": {},
   "outputs": [
    {
     "data": {
      "text/plain": [
       "[]"
      ]
     },
     "execution_count": 5,
     "metadata": {},
     "output_type": "execute_result"
    }
   ],
   "source": [
    "list(world.inconsistent_classes())"
   ]
  },
  {
   "cell_type": "markdown",
   "metadata": {},
   "source": [
    "### SWRL\n",
    "As long as we are introducing these capabilities, we should also mention that Owlready2 also supports the use of [SWRL](https://en.wikipedia.org/wiki/Semantic_Web_Rule_Language) (the Semantic Web Rule Language) \"if . . . then\" type statements. To the best of my knowledge, Owlready2 supports all of the standard SWRL constructs. It is also possible to mix Python and OWL code together, but that, too, is a topic we will not be addressing further in this CWPK series."
   ]
  },
  {
   "cell_type": "markdown",
   "metadata": {},
   "source": [
    "### Save and Exit\n",
    "\n",
    "When we are finished with our tests, we can File &rarr; Save and Checkpoint, Rename our output file, or specify it at the command line:"
   ]
  },
  {
   "cell_type": "code",
   "execution_count": 10,
   "metadata": {},
   "outputs": [],
   "source": [
    "kb.save(file = 'files/kbpedia_reference_concepts-pellet.owl', format = 'rdfxml')"
   ]
  },
  {
   "cell_type": "markdown",
   "metadata": {},
   "source": [
    "### Additional Documentation\n",
    "\n",
    "Here are links to appropriate Owlready2 documentation:\n",
    "- [Reasoners](https://owlready2.readthedocs.io/en/latest/reasoning.html)\n",
    "- [SWRL](https://owlready2.readthedocs.io/en/latest/rule.html)\n",
    "- [Python + OWL](https://owlready2.readthedocs.io/en/latest/mixing_python_owl.html).\n",
    "\n",
    "\n",
    "\n",
    " <div style=\"background-color:#efefff; border:1px dotted #ceceff; vertical-align:middle; margin:15px 60px; padding:8px;\"> \n",
    "  <span style=\"font-weight: bold;\">NOTE:</span> This article is part of the <a href=\"https://www.mkbergman.com/cooking-with-python-and-kbpedia/\" style=\"font-style: italic;\">Cooking with Python and KBpedia</a> series. See the <a href=\"https://www.mkbergman.com/cooking-with-python-and-kbpedia/\"><strong>CWPK</strong> listing</a> for other articles in the series. <a href=\"http://kbpedia.org/\">KBpedia</a> has its own Web site.\n",
    "  </div>\n",
    "\n",
    "<div style=\"background-color:#ebf8e2; border:1px dotted #71c837; vertical-align:middle; margin:15px 60px; padding:8px;\"> \n",
    "\n",
    "<span style=\"font-weight: bold;\">NOTE:</span> This <strong>CWPK \n",
    "installment</strong> is available both as an online interactive\n",
    "file <a href=\"https://mybinder.org/v2/gh/Cognonto/CWPK/master\" ><img src=\"https://mybinder.org/badge_logo.svg\" style=\"display:inline-block; vertical-align: middle;\" /></a> or as a <a href=\"https://github.com/Cognonto/CWPK\" title=\"CWPK notebook\" alt=\"CWPK notebook\">direct download</a> to use locally. Make sure and pick the correct installment number. For the online interactive option, pick the <code>*.ipynb</code> file. It may take a bit of time for the interactive option to load.</div>\n",
    "\n",
    "<div style=\"background-color:#feeedc; border:1px dotted #f7941d; vertical-align:middle; margin:15px 60px; padding:8px;\"> \n",
    "<div style=\"float: left; margin-right: 5px;\"><img src=\"http://kbpedia.org/cwpk-files/warning.png\" title=\"Caution!\" width=\"32\" /></div>I am at best an amateur with Python. There are likely more efficient methods for coding these steps than what I provide. I encourage you to experiment -- which is part of the fun of Python -- and to <a href=\"mailto:mike@mkbergman.com\">notify me</a> should you make improvements.    \n",
    "\n",
    "</div>"
   ]
  }
 ],
 "metadata": {
  "kernelspec": {
   "display_name": "Python 3",
   "language": "python",
   "name": "python3"
  },
  "language_info": {
   "codemirror_mode": {
    "name": "ipython",
    "version": 3
   },
   "file_extension": ".py",
   "mimetype": "text/x-python",
   "name": "python",
   "nbconvert_exporter": "python",
   "pygments_lexer": "ipython3",
   "version": "3.8.5"
  }
 },
 "nbformat": 4,
 "nbformat_minor": 5
}
